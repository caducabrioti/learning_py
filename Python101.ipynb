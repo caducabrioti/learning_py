{
  "nbformat": 4,
  "nbformat_minor": 0,
  "metadata": {
    "colab": {
      "provenance": [],
      "authorship_tag": "ABX9TyNl9hsp2DSNZwYyCvhD/cqP",
      "include_colab_link": true
    },
    "kernelspec": {
      "name": "python3",
      "display_name": "Python 3"
    },
    "language_info": {
      "name": "python"
    }
  },
  "cells": [
    {
      "cell_type": "markdown",
      "metadata": {
        "id": "view-in-github",
        "colab_type": "text"
      },
      "source": [
        "<a href=\"https://colab.research.google.com/github/caducabrioti/learning_py/blob/main/Python101.ipynb\" target=\"_parent\"><img src=\"https://colab.research.google.com/assets/colab-badge.svg\" alt=\"Open In Colab\"/></a>"
      ]
    },
    {
      "cell_type": "markdown",
      "source": [
        "**MINI CHALLENGE #5:**\n",
        "- **Write a code that takes an input from a bank client asking him/her about their feedback regarding the service. The code should split the client input into words and print them on screen**"
      ],
      "metadata": {
        "id": "lMzKxDWUWMe5"
      }
    },
    {
      "cell_type": "code",
      "execution_count": 3,
      "metadata": {
        "id": "i-LKiIZTzSm0",
        "colab": {
          "base_uri": "https://localhost:8080/"
        },
        "outputId": "c0acafde-a8ea-4a85-9f4f-553e3704273b"
      },
      "outputs": [
        {
          "name": "stdout",
          "output_type": "stream",
          "text": [
            "how do you feel about our service provided here at NXT advisors?el dkanl al 10 sou louco estoy loko\n"
          ]
        },
        {
          "output_type": "execute_result",
          "data": {
            "text/plain": [
              "['el', 'dkanl', 'al', '10', 'sou', 'louco', 'estoy', 'loko']"
            ]
          },
          "metadata": {},
          "execution_count": 3
        }
      ],
      "source": [
        "x = input('how do you feel about our service provided here at NXT advisors?')\n",
        "x.split()"
      ]
    },
    {
      "cell_type": "markdown",
      "source": [
        "**ABOUT TUPLES:**\n",
        "- **tuples are just like lists, but unmmutable**\n",
        "```\n",
        "see more below\n",
        "```"
      ],
      "metadata": {
        "id": "pENqQOxZVvIb"
      }
    },
    {
      "cell_type": "code",
      "source": [
        "#Creating a tuple with the clients name and slicing his names\n",
        "\n",
        "z = input('whats your full name?') #first the fullname is inputed as a string\n",
        "\n",
        "z = tuple(z.split(' ')) #then I make the name become a tuple with every name sliced as an argument\n",
        "\n",
        "print(z[0]) #here I am printing only the first name of the client\n",
        "\n",
        "print(z) #seeing the whole tuple\n",
        "type(z) #proving that the variable \"z\" actually is a tuple"
      ],
      "metadata": {
        "colab": {
          "base_uri": "https://localhost:8080/"
        },
        "id": "GeJCittbVzLZ",
        "outputId": "75edfb75-10ec-4896-9078-36e229d9db4b"
      },
      "execution_count": 1,
      "outputs": [
        {
          "output_type": "stream",
          "name": "stdout",
          "text": [
            "whats your full name?carlos eduardo marques cabrioti\n",
            "carlos\n",
            "('carlos', 'eduardo', 'marques', 'cabrioti')\n"
          ]
        },
        {
          "output_type": "execute_result",
          "data": {
            "text/plain": [
              "tuple"
            ]
          },
          "metadata": {},
          "execution_count": 1
        }
      ]
    },
    {
      "cell_type": "code",
      "source": [
        "len(z)"
      ],
      "metadata": {
        "colab": {
          "base_uri": "https://localhost:8080/"
        },
        "id": "-fay_mtwV4ef",
        "outputId": "7a569887-54eb-4e58-c3c2-9b6816012287"
      },
      "execution_count": 2,
      "outputs": [
        {
          "output_type": "execute_result",
          "data": {
            "text/plain": [
              "4"
            ]
          },
          "metadata": {},
          "execution_count": 2
        }
      ]
    },
    {
      "cell_type": "markdown",
      "source": [
        "**MINI CHALLENGE #8:**\n",
        "- **Remove the duplicates from the following list:**\n",
        "\n",
        "\n",
        "```\n",
        "my_list = ['GOOG', 'APPL', 'T','TSLA','T','AAPL', 5, 6,5]\n",
        "```\n"
      ],
      "metadata": {
        "id": "2h81houcWyKl"
      }
    },
    {
      "cell_type": "code",
      "source": [
        "my_list = ['GOOG', 'APPL', 'T','TSLA','T','AAPL', 5, 6,5]\n",
        "\n",
        "s = set(my_list)\n",
        "s\n",
        "type(s)\n"
      ],
      "metadata": {
        "colab": {
          "base_uri": "https://localhost:8080/"
        },
        "id": "k3b6dfjjWzI4",
        "outputId": "f5e337f3-b3ee-48a0-93c8-6e3c6706dc1e"
      },
      "execution_count": 5,
      "outputs": [
        {
          "output_type": "execute_result",
          "data": {
            "text/plain": [
              "set"
            ]
          },
          "metadata": {},
          "execution_count": 5
        }
      ]
    },
    {
      "cell_type": "code",
      "source": [
        "print(s)"
      ],
      "metadata": {
        "colab": {
          "base_uri": "https://localhost:8080/"
        },
        "id": "wP8PIP8CW6mu",
        "outputId": "bfa9f2c1-a30e-4cbc-c271-6fe2b057d666"
      },
      "execution_count": 7,
      "outputs": [
        {
          "output_type": "stream",
          "name": "stdout",
          "text": [
            "{'TSLA', 'GOOG', 'AAPL', 'APPL', 5, 6, 'T'}\n"
          ]
        }
      ]
    },
    {
      "cell_type": "code",
      "source": [
        "xxx = 2"
      ],
      "metadata": {
        "id": "Sgk8I9pYXAq5"
      },
      "execution_count": 8,
      "outputs": []
    },
    {
      "cell_type": "code",
      "source": [],
      "metadata": {
        "id": "ti4UVEDcjcfu"
      },
      "execution_count": null,
      "outputs": []
    }
  ]
}